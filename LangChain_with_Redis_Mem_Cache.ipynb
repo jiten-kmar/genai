{
 "cells": [
  {
   "cell_type": "code",
   "execution_count": null,
   "metadata": {},
   "outputs": [],
   "source": [
    "from langchain_core.prompts import ChatPromptTemplate, MessagesPlaceholder\n",
    "from langchain_openai.chat_models import ChatOpenAI\n",
    "\n",
    "from langchain_community.chat_message_histories import RedisChatMessageHistory\n",
    "from langchain_core.runnables.history import RunnableWithMessageHistory\n",
    "\n",
    "import os\n",
    "import config\n",
    "\n",
    "os.environ[\"OPENAI_API_KEY\"]= config.openai_api_key\n",
    "\n",
    "model = ChatOpenAI()\n",
    "prompt = ChatPromptTemplate.from_messages(\n",
    "    [\n",
    "        (\n",
    "            \"system\",\n",
    "            \"You're an assistant who's good at {ability}. Respond in 20 words or fewer\",\n",
    "        ),\n",
    "        MessagesPlaceholder(variable_name=\"history\"),\n",
    "        (\"human\", \"{input}\"),\n",
    "    ]\n",
    ")\n",
    "base_chain = prompt | model"
   ]
  },
  {
   "cell_type": "markdown",
   "metadata": {},
   "source": [
    "# Exec into a docker container.\n",
    "docker exec -it <container id> /bin/bash\n",
    "# Use Redis CLI\n",
    "redis-cli\n",
    "# Look for all the available keys.\n",
    "KEYS *\n",
    "# To view the details of keys, use the below command.\n",
    "LRANGE message_store:math-thread1 0 -1"
   ]
  },
  {
   "cell_type": "code",
   "execution_count": null,
   "metadata": {},
   "outputs": [],
   "source": [
    "REDIS_URL = \"redis://localhost:6379/0\"\n",
    "store = {}"
   ]
  },
  {
   "cell_type": "code",
   "execution_count": null,
   "metadata": {},
   "outputs": [],
   "source": [
    "def get_message_history(session_id: str) -> RedisChatMessageHistory:\n",
    "    return RedisChatMessageHistory(session_id, url=REDIS_URL)\n",
    "\n",
    "redis_chain = RunnableWithMessageHistory(\n",
    "    base_chain,\n",
    "    get_message_history,\n",
    "    input_messages_key=\"input\",\n",
    "    history_messages_key=\"history\",\n",
    ")"
   ]
  },
  {
   "cell_type": "code",
   "execution_count": null,
   "metadata": {},
   "outputs": [],
   "source": [
    "redis_chain.invoke(\n",
    "    {\"ability\": \"math\", \n",
    "     \"input\": \"What does cosine mean?\"}, \n",
    "    config={\"configurable\": {\"session_id\": \"math-thread1\"}},\n",
    ")"
   ]
  },
  {
   "cell_type": "code",
   "execution_count": null,
   "metadata": {},
   "outputs": [],
   "source": [
    "redis_chain.invoke(\n",
    "    {\"ability\": \"math\", \"input\": \"Tell me more!\"},\n",
    "    config={\"configurable\": {\"session_id\": \"math-thread1\"}},\n",
    ")"
   ]
  },
  {
   "cell_type": "code",
   "execution_count": null,
   "metadata": {},
   "outputs": [],
   "source": [
    "redis_chain.invoke(\n",
    "    {\"ability\": \"physics\", \n",
    "     \"input\": \"What is the theory of relativity?\"}, \n",
    "    config={\"configurable\": {\"session_id\": \"phy-thread1\"}},\n",
    ")"
   ]
  },
  {
   "cell_type": "code",
   "execution_count": null,
   "metadata": {},
   "outputs": [],
   "source": [
    "redis_chain.invoke(\n",
    "    {\"ability\": \"physics\", \"input\": \"Tell me more!\"},\n",
    "    config={\"configurable\": {\"session_id\": \"phy-thread1\"}},\n",
    ")"
   ]
  }
 ],
 "metadata": {
  "language_info": {
   "name": "python"
  }
 },
 "nbformat": 4,
 "nbformat_minor": 2
}
