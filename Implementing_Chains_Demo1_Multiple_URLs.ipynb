{
 "cells": [
  {
   "cell_type": "code",
   "execution_count": 1,
   "metadata": {},
   "outputs": [
    {
     "name": "stderr",
     "output_type": "stream",
     "text": [
      "USER_AGENT environment variable not set, consider setting it to identify your requests.\n"
     ]
    }
   ],
   "source": [
    "# Import the required modules.\n",
    "from langchain_openai import ChatOpenAI\n",
    "from langchain_core.prompts import ChatPromptTemplate\n",
    "from langchain_community.document_loaders import WebBaseLoader\n",
    "from langchain.chains.combine_documents import create_stuff_documents_chain\n",
    "\n",
    "import os\n",
    "import config"
   ]
  },
  {
   "cell_type": "code",
   "execution_count": 2,
   "metadata": {},
   "outputs": [],
   "source": [
    "# Set your OpenAI API key:\n",
    "os.environ[\"OPENAI_API_KEY\"]= config.openai_api_key"
   ]
  },
  {
   "cell_type": "code",
   "execution_count": 5,
   "metadata": {},
   "outputs": [],
   "source": [
    "# Set the URLs of the web documents.\n",
    "#URL1=\"https://techcrunch.com/2024/03/04/anthropic-claims-its-new-models-beat-gpt-4/\"\n",
    "#URL2=\"https://techcrunch.com/2024/03/28/ai21-labs-new-text-generating-ai-model-is-more-efficient-than-most/\"\n",
    "URL1=\"https://nextgentek.io\"\n",
    "URL2=\"https://futureu.academy\""
   ]
  },
  {
   "cell_type": "code",
   "execution_count": 6,
   "metadata": {},
   "outputs": [],
   "source": [
    "# Load the web documents using WebBaseLoader.\n",
    "loader = WebBaseLoader([URL1, URL2])\n",
    "data = loader.load()"
   ]
  },
  {
   "cell_type": "code",
   "execution_count": 15,
   "metadata": {},
   "outputs": [],
   "source": [
    "# Create a prompt template.\n",
    "prompt = ChatPromptTemplate.from_messages(\n",
    "    [(\"system\", \"Please compare which organization is stronger on Artificial Intelligence and why:\\n\\n{context}\")]\n",
    ")"
   ]
  },
  {
   "cell_type": "code",
   "execution_count": 16,
   "metadata": {},
   "outputs": [],
   "source": [
    "# Initialize the language model.\n",
    "llm = ChatOpenAI(model=\"gpt-3.5-turbo\")"
   ]
  },
  {
   "cell_type": "code",
   "execution_count": 17,
   "metadata": {},
   "outputs": [],
   "source": [
    "# Create a document processing chain.\n",
    "chain = create_stuff_documents_chain(llm, prompt)"
   ]
  },
  {
   "cell_type": "code",
   "execution_count": 18,
   "metadata": {},
   "outputs": [
    {
     "data": {
      "text/plain": [
       "\"In comparing the strength of both organizations on Artificial Intelligence (AI), it is important to consider the focus and offerings of each.\\n\\nNextGenTek Consulting:\\n1. NextGenTek Consulting appears to have a broader focus on technology solutions and services beyond just AI, including smart cities, deep fake technology, and cloud computing.\\n2. They emphasize the synergy between business and technology, suggesting a strong understanding of how AI can be applied in a business context.\\n3. They highlight the use of AI for small and midsize businesses to gain a competitive edge, indicating a practical understanding of AI applications in real-world scenarios.\\n\\nFutureU Academy:\\n1. FutureU Academy specifically focuses on redefining STEM education through an E-Sports integration, which could indicate a unique approach to teaching AI concepts.\\n2. They emphasize real-world applications of STEM concepts, which could include AI, to enhance understanding and academic success.\\n3. By offering access to industry experts with experience at top companies like Google and Facebook, FutureU Academy provides valuable insights into the practical application of AI.\\n\\nOverall, while NextGenTek Consulting showcases a broader range of technology services with a focus on AI applications for businesses, FutureU Academy's unique approach to integrating AI education with E-Sports and access to industry experts may provide a more specialized and engaging learning experience for students interested in AI. Ultimately, the strength of each organization on AI may depend on the specific needs and goals of the individual or business seeking AI expertise.\""
      ]
     },
     "execution_count": 18,
     "metadata": {},
     "output_type": "execute_result"
    }
   ],
   "source": [
    "# Invoke the chain with the loaded data.\n",
    "chain.invoke({\"context\": data})"
   ]
  }
 ],
 "metadata": {
  "kernelspec": {
   "display_name": "Python 3",
   "language": "python",
   "name": "python3"
  },
  "language_info": {
   "codemirror_mode": {
    "name": "ipython",
    "version": 3
   },
   "file_extension": ".py",
   "mimetype": "text/x-python",
   "name": "python",
   "nbconvert_exporter": "python",
   "pygments_lexer": "ipython3",
   "version": "3.9.6"
  }
 },
 "nbformat": 4,
 "nbformat_minor": 2
}
