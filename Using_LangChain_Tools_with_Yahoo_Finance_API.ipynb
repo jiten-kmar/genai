{
 "cells": [
  {
   "cell_type": "code",
   "execution_count": 1,
   "metadata": {},
   "outputs": [
    {
     "name": "stdout",
     "output_type": "stream",
     "text": [
      "\u001b[33mWARNING: You are using pip version 21.2.4; however, version 24.1.1 is available.\n",
      "You should consider upgrading via the '/Library/Developer/CommandLineTools/usr/bin/python3 -m pip install --upgrade pip' command.\u001b[0m\n"
     ]
    }
   ],
   "source": [
    "# No module named 'yfinance'\n",
    "!pip3 install yfinance >> /dev/null"
   ]
  },
  {
   "cell_type": "code",
   "execution_count": 2,
   "metadata": {},
   "outputs": [
    {
     "name": "stderr",
     "output_type": "stream",
     "text": [
      "USER_AGENT environment variable not set, consider setting it to identify your requests.\n"
     ]
    }
   ],
   "source": [
    "# Import the required modules.\n",
    "from langchain_community.tools.yahoo_finance_news import YahooFinanceNewsTool\n",
    "\n",
    "import os\n",
    "import config"
   ]
  },
  {
   "cell_type": "code",
   "execution_count": 3,
   "metadata": {},
   "outputs": [],
   "source": [
    "# Set your OpenAI API key:\n",
    "os.environ[\"OPENAI_API_KEY\"]= config.openai_api_key"
   ]
  },
  {
   "cell_type": "code",
   "execution_count": 4,
   "metadata": {},
   "outputs": [],
   "source": [
    "# Initialize the Yahoo Finance News tool.\n",
    "tool = YahooFinanceNewsTool()"
   ]
  },
  {
   "cell_type": "code",
   "execution_count": 7,
   "metadata": {},
   "outputs": [],
   "source": [
    "# Run a query using the tool.\n",
    "res = tool.run(\"AAPL\")"
   ]
  },
  {
   "cell_type": "code",
   "execution_count": 8,
   "metadata": {},
   "outputs": [
    {
     "name": "stdout",
     "output_type": "stream",
     "text": [
      "5 big analyst AI moves: Google downgraded as Apple gets vote of confidence\n",
      "The findings showed that most of these stocks underperformed relative to the S&P 500 index over short-term periods of one week, one month, and three months after reaching the top market cap position. However, over longer periods of one year, three years, and five years, these stocks generally outperformed the S&P 500, Truist analysts pointed out. Rosenblatt ups Apple to Buy, says privacy-focused AI can boost market share Rosenblatt Securities upgraded Apple Inc (NASDAQ:AAPL) stock to Buy this week, citing the potential of the company's privacy-focused Apple Intelligence platform to boost market share in the AI sector.\n"
     ]
    }
   ],
   "source": [
    "# Print the response.\n",
    "print(res)"
   ]
  }
 ],
 "metadata": {
  "kernelspec": {
   "display_name": "Python 3",
   "language": "python",
   "name": "python3"
  },
  "language_info": {
   "codemirror_mode": {
    "name": "ipython",
    "version": 3
   },
   "file_extension": ".py",
   "mimetype": "text/x-python",
   "name": "python",
   "nbconvert_exporter": "python",
   "pygments_lexer": "ipython3",
   "version": "3.9.6"
  }
 },
 "nbformat": 4,
 "nbformat_minor": 2
}
