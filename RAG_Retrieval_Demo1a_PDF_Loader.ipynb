{
 "cells": [
  {
   "cell_type": "code",
   "execution_count": 4,
   "metadata": {},
   "outputs": [
    {
     "name": "stdout",
     "output_type": "stream",
     "text": [
      "\u001b[33mWARNING: You are using pip version 21.2.4; however, version 24.1.1 is available.\n",
      "You should consider upgrading via the '/Library/Developer/CommandLineTools/usr/bin/python3 -m pip install --upgrade pip' command.\u001b[0m\n"
     ]
    }
   ],
   "source": [
    "!pip3 install pypdf >> /dev/null"
   ]
  },
  {
   "cell_type": "code",
   "execution_count": 1,
   "metadata": {},
   "outputs": [],
   "source": [
    "# Import the required module:\n",
    "from langchain_community.document_loaders import PyPDFLoader\n",
    "import os\n",
    "import config"
   ]
  },
  {
   "cell_type": "code",
   "execution_count": 2,
   "metadata": {},
   "outputs": [],
   "source": [
    "# Set your OpenAI API key:\n",
    "os.environ[\"OPENAI_API_KEY\"]= config.openai_api_key"
   ]
  },
  {
   "cell_type": "code",
   "execution_count": 5,
   "metadata": {},
   "outputs": [],
   "source": [
    "loader = PyPDFLoader(\"data/handbook.pdf\")"
   ]
  },
  {
   "cell_type": "code",
   "execution_count": 6,
   "metadata": {},
   "outputs": [],
   "source": [
    "pages = loader.load_and_split()"
   ]
  },
  {
   "cell_type": "code",
   "execution_count": 8,
   "metadata": {},
   "outputs": [
    {
     "data": {
      "text/plain": [
       "[Document(page_content='LakeSide Bicycles Employee Handbook Welcome to the team! LakeSide Bicycles\\nis a company that values quality, innovation, and customer satisfaction. We are\\npassionate about creating and selling bicycles that meet the needs and preferences\\nof our diverse clientele. As an employee of LakeSide Bicycles, you are expected\\nto uphold our mission, vision, and values, and to contribute to our success and\\ngrowth. This handbook will provide you with some important information and\\nguidelines about working at LakeSide Bicycles. Please read it carefully and\\nkeep it for future reference. Organization Policies As an employee of LakeSide\\nBicycles, you are expected to follow these organization policies: •Be punctual\\nand reliable. You are required to work the hours and days that are assigned to\\nyou by your supervisor. If you are unable to work due to illness, emergency, or\\nany other reason, you must notify your supervisor as soon as possible and provide\\na valid reason and documentation if required. •Be professional and respectful.\\nYou are expected to maintain a high standard of professionalism and respect in\\nyour interactions with your colleagues, customers, suppliers, and anyone else you\\nencounter in the course of your work. You must avoid any behavior that could be\\nconsidered rude, oGensive, discriminatory, harassing, or violent. •Be honest and\\nethical. You are expected to perform your duties with honesty and integrity, and\\nto comply with all applicable laws, regulations, and company policies. You must\\nnot engage in any activity that could be considered fraudulent, corrupt, or illegal,\\nor that could damage the reputation or interests of LakeSide Bicycles. •Be safe\\nand responsible. You are expected to follow all safety rules and procedures, and\\nto use the equipment and resources provided by LakeSide Bicycles in a safe and\\nresponsible manner. You must not engage in any activity that could endanger\\nyourself or others, or that could damage or waste the equipment or resources\\nof LakeSide Bicycles. •Be loyal and committed. You are expected to support\\nthe goals and objectives of LakeSide Bicycles, and to work cooperatively and\\ncollaboratively with your team and other departments. You must not disclose\\nany conﬁdential or proprietary information of LakeSide Bicycles to unauthorized\\nparties, or engage in any activity that could create a conﬂict of interest or a\\nbreach of loyalty. Leave Policies As an employee of LakeSide Bicycles, you are\\nentitled to the following types of leave: •Paid vacation leave. You are eligible\\nfor 10 days of paid vacation leave per year, which can be accrued and carried\\nover to the next year. You must request your vacation leave at least two weeks in\\nadvance, and obtain approval from your supervisor. You can use your vacation\\nleave for any personal or recreational purpose. •Paid sick leave. You are eligible\\nfor 10 days of paid sick leave per year, which can be used for any illness or\\ninjury that prevents you from working. You must notify your supervisor as soon\\nas possible if you need to take sick leave, and provide a medical certiﬁcate if\\nrequired. You can also use your sick leave to care for a family member who is ill\\nor injured. •Unpaid personal leave. You are eligible for up to 10 days of unpaid\\npersonal leave per year, which can be used for any personal or family reason that\\nis not covered by the other types of leave. You must request your personal leave\\nat least two weeks in advance, and obtain approval from your supervisor and the\\nHR department. You can use your personal leave for reasons such as education,\\nbereavement, jury duty, or military service. HR Policies As an employee of\\n1', metadata={'source': 'data/handbook.pdf', 'page': 0}),\n",
       " Document(page_content='LakeSide Bicycles, you are subject to the following HR policies: •Performance\\nappraisal. You will receive a performance appraisal from your supervisor at\\nleast once a year, which will evaluate your achievements, strengths, and areas\\nfor improvement. You will also have the opportunity to provide feedback on\\nyour supervisor and your work environment. The performance appraisal will\\nbe used to determine your eligibility for promotion, salary increase, or bonus.\\n•Training and development. You will have access to various training and\\ndevelopment opportunities, such as workshops, courses, mentoring, and coaching,\\nthat will help you enhance your skills and knowledge, and advance your career.\\nYou are encouraged to discuss your training and development needs and goals\\nwith your supervisor and the HR department. •Online courses. You will have\\nthe option to enroll in online courses that are relevant to your job role and\\ncareer aspirations, with the approval of your supervisor and the HR department.\\nYou will be responsible for completing the online courses within the speciﬁed\\ntime frame and reporting your progress and results to your supervisor and the\\nHR department. The organization will cover the cost of the online courses\\nup to a maximum of $500 per year per employee. You can request additional\\nfunding if you can demonstrate the value and beneﬁt of the online courses for\\nyour professional development and the organization’s goals. •Discipline and\\ngrievance. You will be subject to disciplinary action if you violate any of the\\norganization policies, or if your performance or conduct is unsatisfactory. The\\ndisciplinary action will depend on the nature and severity of the violation, and\\nmay include verbal warning, written warning, suspension, or termination. You\\nhave the right to appeal any disciplinary action, and to ﬁle a grievance if you\\nhave any complaint or concern about your work situation. You can contact the\\nHR department for more information on the discipline and grievance procedures.\\nWe hope that this handbook has given you a clear and comprehensive overview\\nof what it means to work at LakeSide Bicycles. If you have any questions or\\nsuggestions, please feel free to contact the HR department. We look forward to\\nworking with you and making LakeSide Bicycles a great place to work!\\n2', metadata={'source': 'data/handbook.pdf', 'page': 1})]"
      ]
     },
     "execution_count": 8,
     "metadata": {},
     "output_type": "execute_result"
    }
   ],
   "source": [
    "pages"
   ]
  },
  {
   "cell_type": "code",
   "execution_count": 9,
   "metadata": {},
   "outputs": [
    {
     "data": {
      "text/plain": [
       "2"
      ]
     },
     "execution_count": 9,
     "metadata": {},
     "output_type": "execute_result"
    }
   ],
   "source": [
    "len(pages)"
   ]
  },
  {
   "cell_type": "code",
   "execution_count": 10,
   "metadata": {},
   "outputs": [
    {
     "data": {
      "text/plain": [
       "'LakeSide Bicycles, you are subject to the following HR policies: •Performance\\nappraisal. You will receive a performance appraisal from your supervisor at\\nleast once a year, which will evaluate your achievements, strengths, and areas\\nfor improvement. You will also have the opportunity to provide feedback on\\nyour supervisor and your work environment. The performance appraisal will\\nbe used to determine your eligibility for promotion, salary increase, or bonus.\\n•Training and development. You will have access to various training and\\ndevelopment opportunities, such as workshops, courses, mentoring, and coaching,\\nthat will help you enhance your skills and knowledge, and advance your career.\\nYou are encouraged to discuss your training and development needs and goals\\nwith your supervisor and the HR department. •Online courses. You will have\\nthe option to enroll in online courses that are relevant to your job role and\\ncareer aspirations, with the approval of your supervisor and the HR department.\\nYou will be responsible for completing the online courses within the speciﬁed\\ntime frame and reporting your progress and results to your supervisor and the\\nHR department. The organization will cover the cost of the online courses\\nup to a maximum of $500 per year per employee. You can request additional\\nfunding if you can demonstrate the value and beneﬁt of the online courses for\\nyour professional development and the organization’s goals. •Discipline and\\ngrievance. You will be subject to disciplinary action if you violate any of the\\norganization policies, or if your performance or conduct is unsatisfactory. The\\ndisciplinary action will depend on the nature and severity of the violation, and\\nmay include verbal warning, written warning, suspension, or termination. You\\nhave the right to appeal any disciplinary action, and to ﬁle a grievance if you\\nhave any complaint or concern about your work situation. You can contact the\\nHR department for more information on the discipline and grievance procedures.\\nWe hope that this handbook has given you a clear and comprehensive overview\\nof what it means to work at LakeSide Bicycles. If you have any questions or\\nsuggestions, please feel free to contact the HR department. We look forward to\\nworking with you and making LakeSide Bicycles a great place to work!\\n2'"
      ]
     },
     "execution_count": 10,
     "metadata": {},
     "output_type": "execute_result"
    }
   ],
   "source": [
    "pages[1].page_content"
   ]
  }
 ],
 "metadata": {
  "kernelspec": {
   "display_name": "Python 3",
   "language": "python",
   "name": "python3"
  },
  "language_info": {
   "codemirror_mode": {
    "name": "ipython",
    "version": 3
   },
   "file_extension": ".py",
   "mimetype": "text/x-python",
   "name": "python",
   "nbconvert_exporter": "python",
   "pygments_lexer": "ipython3",
   "version": "3.9.6"
  }
 },
 "nbformat": 4,
 "nbformat_minor": 2
}
