{
 "cells": [
  {
   "cell_type": "code",
   "execution_count": 1,
   "metadata": {},
   "outputs": [],
   "source": [
    "from langchain_openai import ChatOpenAI\n",
    "from langchain.prompts import ChatPromptTemplate\n",
    "from langchain.chains import LLMChain\n",
    "import os\n",
    "import config"
   ]
  },
  {
   "cell_type": "code",
   "execution_count": 2,
   "metadata": {},
   "outputs": [],
   "source": [
    "# Set your API key.\n",
    "os.environ[\"OPENAI_API_KEY\"]= config.openai_api_key"
   ]
  },
  {
   "cell_type": "code",
   "execution_count": 3,
   "metadata": {},
   "outputs": [],
   "source": [
    "from langchain.globals import set_debug\n",
    "set_debug(True)"
   ]
  },
  {
   "cell_type": "code",
   "execution_count": 4,
   "metadata": {},
   "outputs": [],
   "source": [
    "prompt=ChatPromptTemplate.from_messages([(\"system\",\"You are a {subject} teacher\"),\n",
    "                                         (\"human\",\"Tell me about {concept}\")])"
   ]
  },
  {
   "cell_type": "code",
   "execution_count": 5,
   "metadata": {},
   "outputs": [],
   "source": [
    "llm = ChatOpenAI()"
   ]
  },
  {
   "cell_type": "code",
   "execution_count": 6,
   "metadata": {},
   "outputs": [
    {
     "name": "stderr",
     "output_type": "stream",
     "text": [
      "/Users/morgayle_ngt/Library/Python/3.9/lib/python/site-packages/langchain_core/_api/deprecation.py:139: LangChainDeprecationWarning: The class `LLMChain` was deprecated in LangChain 0.1.17 and will be removed in 1.0. Use RunnableSequence, e.g., `prompt | llm` instead.\n",
      "  warn_deprecated(\n"
     ]
    }
   ],
   "source": [
    "chain = LLMChain(llm=llm, prompt=prompt)"
   ]
  },
  {
   "cell_type": "code",
   "execution_count": 7,
   "metadata": {},
   "outputs": [
    {
     "name": "stdout",
     "output_type": "stream",
     "text": [
      "\u001b[32;1m\u001b[1;3m[chain/start]\u001b[0m \u001b[1m[chain:LLMChain] Entering Chain run with input:\n",
      "\u001b[0m{\n",
      "  \"subject\": \"physics\",\n",
      "  \"concept\": \"galaxy\"\n",
      "}\n",
      "\u001b[32;1m\u001b[1;3m[llm/start]\u001b[0m \u001b[1m[chain:LLMChain > llm:ChatOpenAI] Entering LLM run with input:\n",
      "\u001b[0m{\n",
      "  \"prompts\": [\n",
      "    \"System: You are a physics teacher\\nHuman: Tell me about galaxy\"\n",
      "  ]\n",
      "}\n",
      "\u001b[36;1m\u001b[1;3m[llm/end]\u001b[0m \u001b[1m[chain:LLMChain > llm:ChatOpenAI] [2.87s] Exiting LLM run with output:\n",
      "\u001b[0m{\n",
      "  \"generations\": [\n",
      "    [\n",
      "      {\n",
      "        \"text\": \"Galaxies are vast systems of stars, gas, dust, and dark matter held together by gravity. They are some of the largest structures in the universe. There are billions of galaxies in the observable universe, each containing anywhere from millions to trillions of stars.\\n\\nGalaxies come in various shapes and sizes, including spiral, elliptical, and irregular. The Milky Way, our own galaxy, is a spiral galaxy with roughly 100-400 billion stars. Galaxies can also interact and collide with each other, leading to the formation of new stars and reshaping the structures of the galaxies involved.\\n\\nGalaxies are not evenly distributed throughout the universe but are instead clustered together in groups and superclusters. The study of galaxies and their distribution helps us understand the large-scale structure of the universe and the processes that govern its evolution.\\n\\nOverall, galaxies are fundamental building blocks of the cosmos and play a crucial role in shaping the universe as we know it.\",\n",
      "        \"generation_info\": {\n",
      "          \"finish_reason\": \"stop\",\n",
      "          \"logprobs\": null\n",
      "        },\n",
      "        \"type\": \"ChatGeneration\",\n",
      "        \"message\": {\n",
      "          \"lc\": 1,\n",
      "          \"type\": \"constructor\",\n",
      "          \"id\": [\n",
      "            \"langchain\",\n",
      "            \"schema\",\n",
      "            \"messages\",\n",
      "            \"AIMessage\"\n",
      "          ],\n",
      "          \"kwargs\": {\n",
      "            \"content\": \"Galaxies are vast systems of stars, gas, dust, and dark matter held together by gravity. They are some of the largest structures in the universe. There are billions of galaxies in the observable universe, each containing anywhere from millions to trillions of stars.\\n\\nGalaxies come in various shapes and sizes, including spiral, elliptical, and irregular. The Milky Way, our own galaxy, is a spiral galaxy with roughly 100-400 billion stars. Galaxies can also interact and collide with each other, leading to the formation of new stars and reshaping the structures of the galaxies involved.\\n\\nGalaxies are not evenly distributed throughout the universe but are instead clustered together in groups and superclusters. The study of galaxies and their distribution helps us understand the large-scale structure of the universe and the processes that govern its evolution.\\n\\nOverall, galaxies are fundamental building blocks of the cosmos and play a crucial role in shaping the universe as we know it.\",\n",
      "            \"response_metadata\": {\n",
      "              \"token_usage\": {\n",
      "                \"completion_tokens\": 188,\n",
      "                \"prompt_tokens\": 20,\n",
      "                \"total_tokens\": 208\n",
      "              },\n",
      "              \"model_name\": \"gpt-3.5-turbo-0125\",\n",
      "              \"system_fingerprint\": null,\n",
      "              \"finish_reason\": \"stop\",\n",
      "              \"logprobs\": null\n",
      "            },\n",
      "            \"type\": \"ai\",\n",
      "            \"id\": \"run-3e97b983-fc75-4ad0-9225-96062c03bce6-0\",\n",
      "            \"usage_metadata\": {\n",
      "              \"input_tokens\": 20,\n",
      "              \"output_tokens\": 188,\n",
      "              \"total_tokens\": 208\n",
      "            },\n",
      "            \"tool_calls\": [],\n",
      "            \"invalid_tool_calls\": []\n",
      "          }\n",
      "        }\n",
      "      }\n",
      "    ]\n",
      "  ],\n",
      "  \"llm_output\": {\n",
      "    \"token_usage\": {\n",
      "      \"completion_tokens\": 188,\n",
      "      \"prompt_tokens\": 20,\n",
      "      \"total_tokens\": 208\n",
      "    },\n",
      "    \"model_name\": \"gpt-3.5-turbo-0125\",\n",
      "    \"system_fingerprint\": null\n",
      "  },\n",
      "  \"run\": null\n",
      "}\n",
      "\u001b[36;1m\u001b[1;3m[chain/end]\u001b[0m \u001b[1m[chain:LLMChain] [2.87s] Exiting Chain run with output:\n",
      "\u001b[0m{\n",
      "  \"text\": \"Galaxies are vast systems of stars, gas, dust, and dark matter held together by gravity. They are some of the largest structures in the universe. There are billions of galaxies in the observable universe, each containing anywhere from millions to trillions of stars.\\n\\nGalaxies come in various shapes and sizes, including spiral, elliptical, and irregular. The Milky Way, our own galaxy, is a spiral galaxy with roughly 100-400 billion stars. Galaxies can also interact and collide with each other, leading to the formation of new stars and reshaping the structures of the galaxies involved.\\n\\nGalaxies are not evenly distributed throughout the universe but are instead clustered together in groups and superclusters. The study of galaxies and their distribution helps us understand the large-scale structure of the universe and the processes that govern its evolution.\\n\\nOverall, galaxies are fundamental building blocks of the cosmos and play a crucial role in shaping the universe as we know it.\"\n",
      "}\n"
     ]
    },
    {
     "data": {
      "text/plain": [
       "{'subject': 'physics',\n",
       " 'concept': 'galaxy',\n",
       " 'text': 'Galaxies are vast systems of stars, gas, dust, and dark matter held together by gravity. They are some of the largest structures in the universe. There are billions of galaxies in the observable universe, each containing anywhere from millions to trillions of stars.\\n\\nGalaxies come in various shapes and sizes, including spiral, elliptical, and irregular. The Milky Way, our own galaxy, is a spiral galaxy with roughly 100-400 billion stars. Galaxies can also interact and collide with each other, leading to the formation of new stars and reshaping the structures of the galaxies involved.\\n\\nGalaxies are not evenly distributed throughout the universe but are instead clustered together in groups and superclusters. The study of galaxies and their distribution helps us understand the large-scale structure of the universe and the processes that govern its evolution.\\n\\nOverall, galaxies are fundamental building blocks of the cosmos and play a crucial role in shaping the universe as we know it.'}"
      ]
     },
     "execution_count": 7,
     "metadata": {},
     "output_type": "execute_result"
    }
   ],
   "source": [
    "chain.invoke({\"subject\":\"physics\",\"concept\":\"galaxy\"})"
   ]
  }
 ],
 "metadata": {
  "kernelspec": {
   "display_name": "Python 3",
   "language": "python",
   "name": "python3"
  },
  "language_info": {
   "codemirror_mode": {
    "name": "ipython",
    "version": 3
   },
   "file_extension": ".py",
   "mimetype": "text/x-python",
   "name": "python",
   "nbconvert_exporter": "python",
   "pygments_lexer": "ipython3",
   "version": "3.9.6"
  }
 },
 "nbformat": 4,
 "nbformat_minor": 2
}
