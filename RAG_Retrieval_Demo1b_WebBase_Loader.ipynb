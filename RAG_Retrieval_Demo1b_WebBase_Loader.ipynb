{
 "cells": [
  {
   "cell_type": "code",
   "execution_count": 1,
   "metadata": {},
   "outputs": [
    {
     "name": "stderr",
     "output_type": "stream",
     "text": [
      "USER_AGENT environment variable not set, consider setting it to identify your requests.\n"
     ]
    }
   ],
   "source": [
    "# Import the required module:\n",
    "from langchain_community.document_loaders import WebBaseLoader\n",
    "import os\n",
    "import config"
   ]
  },
  {
   "cell_type": "code",
   "execution_count": 2,
   "metadata": {},
   "outputs": [],
   "source": [
    "# Set your OpenAI API key:\n",
    "os.environ[\"OPENAI_API_KEY\"]= config.openai_api_key"
   ]
  },
  {
   "cell_type": "code",
   "execution_count": 8,
   "metadata": {},
   "outputs": [],
   "source": [
    "# Define the URL of the web page you want to load:\n",
    "URL = \"https://nextgentek.io\""
   ]
  },
  {
   "cell_type": "code",
   "execution_count": 9,
   "metadata": {},
   "outputs": [],
   "source": [
    "# Initialize the WebBaseLoader with the URL:\n",
    "loader = WebBaseLoader(URL)"
   ]
  },
  {
   "cell_type": "code",
   "execution_count": 10,
   "metadata": {},
   "outputs": [],
   "source": [
    "# Load the data from the web page:\n",
    "data = loader.load()"
   ]
  },
  {
   "cell_type": "code",
   "execution_count": 11,
   "metadata": {},
   "outputs": [
    {
     "data": {
      "text/plain": [
       "1"
      ]
     },
     "execution_count": 11,
     "metadata": {},
     "output_type": "execute_result"
    }
   ],
   "source": [
    "# Check the length of the loaded data:\n",
    "len(data)"
   ]
  },
  {
   "cell_type": "code",
   "execution_count": 12,
   "metadata": {},
   "outputs": [
    {
     "data": {
      "text/plain": [
       "[Document(page_content=\"NextGenTek ConsultingNextGenTek ConsultingServicesAboutContactBlogLog InBuilding tomorrow's world, today.Together with a shared commitment and effort, we can create a more prosperous futureLearn moreTrusted by the world's best companiesOur ServicesDriving innovation, transforming industries, and navigating the technological frontier. Discover how the synergy between business and technology is shaping the world of tomorrow. Choose today to learn more and read on ahead.With today's rapid urbanization and technological advancements, the concept of smart cities has taken center stage. But what exactly is a smart city?Learn MoreIn today's rapidly evolving digital landscape, small and midsize businesses are harnessing the capabilities of Artificial Intelligence (AI) to be a step ahead of the norm competitive edge to drive growth.Learn MoreIn the era of digitization and pervasive media, the insidious rise of deep fake technology has cast a formidable challenge to the authenticity and trustworthiness of digital content.Learn More“When technical expertise meets a business vision, the future unfolds.”Harry Hunter, PhD, CEO of NextGenTek Ready to get started?Contact NGT today and let us transform your technology challenges into seamless solutions that propel your business forward.Contact UsLatest Blog PostReady to get started?Contact NGT today and let us transform your technology challenges into seamless solutions that propel your business forward.ServicesSustainable Smart CitiesCloud Native ComputingMobile ApplicationDevOps/MLOpsPagesServicesAboutContactBlog© 2024\\xa0 NextGenTek Consulting. All rights reserved.\", metadata={'source': 'https://nextgentek.io', 'title': 'NextGenTek Consulting', 'description': '', 'language': 'en'})]"
      ]
     },
     "execution_count": 12,
     "metadata": {},
     "output_type": "execute_result"
    }
   ],
   "source": [
    "# Display the loaded data:\n",
    "data"
   ]
  }
 ],
 "metadata": {
  "kernelspec": {
   "display_name": "Python 3",
   "language": "python",
   "name": "python3"
  },
  "language_info": {
   "codemirror_mode": {
    "name": "ipython",
    "version": 3
   },
   "file_extension": ".py",
   "mimetype": "text/x-python",
   "name": "python",
   "nbconvert_exporter": "python",
   "pygments_lexer": "ipython3",
   "version": "3.9.6"
  }
 },
 "nbformat": 4,
 "nbformat_minor": 2
}
